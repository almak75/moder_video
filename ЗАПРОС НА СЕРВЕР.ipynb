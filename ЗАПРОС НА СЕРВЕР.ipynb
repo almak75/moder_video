{
 "cells": [
  {
   "cell_type": "code",
   "execution_count": 1,
   "id": "4ec3802c",
   "metadata": {},
   "outputs": [],
   "source": [
    "import importlib\n",
    "import requests\n",
    "from PIL import Image\n",
    "import imghdr\n",
    "import os \n",
    "import cv2\n",
    "from io import BytesIO\n",
    "import json"
   ]
  },
  {
   "cell_type": "markdown",
   "id": "94abbaa6",
   "metadata": {},
   "source": [
    "# отправка запросов с видео файлом"
   ]
  },
  {
   "cell_type": "code",
   "execution_count": 2,
   "id": "ce407d5f",
   "metadata": {},
   "outputs": [
    {
     "name": "stdout",
     "output_type": "stream",
     "text": [
      "{'need_moderation': 1, 'net1': {'hard': 0.001153927412815392, 'control': 0.04532746225595474, 'sexy': 0.9535185694694519}, 'net2': {'hard': 0.019549904391169548, 'control': 0.3799826502799988, 'sexy': 0.6004674434661865}}\n"
     ]
    }
   ],
   "source": [
    "#файл, который отправляем\n",
    "img = r'D:\\projects\\ero_video\\dataset\\insta\\011.mp4'\n",
    "\n",
    "url = \"http://127.0.0.1:8000/vd\"  #ЮРЛ - другой. Он отличается от картинки\n",
    "file = {\"video\": open(img, \"rb\")}  #открываем файл как бинарный\n",
    "\n",
    "response = requests.post(url, files=file)\n",
    "\n",
    "if response.status_code == 200:\n",
    "    #ВАЖНО. ТАМ ПРИХОДИТ В ОТВЕТЕ ХУДШИЙ ФАЙЛ. ЕГО МОЖНО ПОЛУЧИТЬ ВОТ ТАК\n",
    "    file_path = r'Y:\\\\frame1.jpg'   #где сохраним\n",
    "    # Сохраняем файл на диск\n",
    "    with open(file_path, 'wb') as f:\n",
    "        f.write(response.content)\n",
    "    \n",
    "    #КРОМЕ ФАЙЛА - приходит еще и такой же ответ, как и по картинке, только находится он в хэдере. Распаковать его вот так\n",
    "    result = json.loads(response.headers['result'])  #Здесь будут рельтаты нейронок и need_moderation\n",
    "    print(result)\n",
    "else:\n",
    "    print(f\"Error: {response.status_code} - {response.text}\")"
   ]
  },
  {
   "cell_type": "code",
   "execution_count": null,
   "id": "c995f023",
   "metadata": {},
   "outputs": [],
   "source": []
  },
  {
   "cell_type": "code",
   "execution_count": null,
   "id": "b45d353b",
   "metadata": {},
   "outputs": [],
   "source": []
  },
  {
   "cell_type": "markdown",
   "id": "b3174a79",
   "metadata": {},
   "source": [
    "# отправка запросов с изображением файлом"
   ]
  },
  {
   "cell_type": "code",
   "execution_count": 13,
   "id": "41c485e0",
   "metadata": {},
   "outputs": [
    {
     "name": "stdout",
     "output_type": "stream",
     "text": [
      "{'need_moderation': 1, 'net1': {'hard': 0.9999064207077026, 'control': 2.0144598238402978e-05, 'sexy': 7.346169149968773e-05}, 'net2': {'hard': 0.9999867677688599, 'control': 5.976505235594232e-06, 'sexy': 7.239748811116442e-06}}\n"
     ]
    }
   ],
   "source": [
    "img  = r'D:\\projects\\ero\\datasets\\girls\\g20002\\train\\hard\\porntb_000001.jpg'\n",
    "\n",
    "url = \"http://127.0.0.1:8000/ps\"\n",
    "file = {\"image\": open(img, \"rb\")}  #открываем файл как бинарный\n",
    "\n",
    "\n",
    "response = requests.post(url, files=file)\n",
    "\n",
    "\n",
    "if response.status_code == 200:\n",
    "    result = response.json()\n",
    "    print( result)"
   ]
  },
  {
   "cell_type": "code",
   "execution_count": null,
   "id": "2ad4874c",
   "metadata": {},
   "outputs": [],
   "source": []
  },
  {
   "cell_type": "code",
   "execution_count": null,
   "id": "2116d5a1",
   "metadata": {},
   "outputs": [],
   "source": []
  }
 ],
 "metadata": {
  "kernelspec": {
   "display_name": "Python 3 (ipykernel)",
   "language": "python",
   "name": "python3"
  },
  "language_info": {
   "codemirror_mode": {
    "name": "ipython",
    "version": 3
   },
   "file_extension": ".py",
   "mimetype": "text/x-python",
   "name": "python",
   "nbconvert_exporter": "python",
   "pygments_lexer": "ipython3",
   "version": "3.9.16"
  }
 },
 "nbformat": 4,
 "nbformat_minor": 5
}
